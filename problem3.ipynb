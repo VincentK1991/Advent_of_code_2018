{
 "cells": [
  {
   "cell_type": "code",
   "execution_count": 7,
   "metadata": {},
   "outputs": [],
   "source": [
    "import numpy as np\n",
    "import re"
   ]
  },
  {
   "cell_type": "code",
   "execution_count": 8,
   "metadata": {},
   "outputs": [],
   "source": [
    "def read_input(filename):\n",
    "    '''read the input and split by line, get rid of empty line, and return as a list of string'''\n",
    "    temp_file = open(filename)\n",
    "    return temp_file.read().split('\\n')[:-1]"
   ]
  },
  {
   "cell_type": "code",
   "execution_count": 9,
   "metadata": {},
   "outputs": [],
   "source": [
    "input_3 = read_input('input_p3.txt')"
   ]
  },
  {
   "cell_type": "code",
   "execution_count": 12,
   "metadata": {},
   "outputs": [],
   "source": [
    "def find_range(input_3):\n",
    "    '''find the range of area co-ordinate from 0,0 to ... so that we can find a grid large enough for plotting all co-ordinates'''\n",
    "    most_down_list = []\n",
    "    most_right_list = []\n",
    "    right_start_list = list(map(int,re.findall(r'(?<=@ ).*?(?=,)',str(input_3))))\n",
    "    down_start_list = list(map(int,re.findall(r'(?<=,).*?(?=:)',''.join(input_3))))\n",
    "    right_len_list = list(map(int,re.findall(r'(?<=: ).*?(?=x)',str(input_3))))\n",
    "    down_len_list = list(map(int,re.findall(r\"(?<=x).*?(?=')\", str(input_3))))\n",
    "    for i in range(len(down_start_list)):\n",
    "        most_down_list.append(down_start_list[i] + down_len_list[i])\n",
    "        most_right_list.append(right_start_list[i] + right_len_list[i])\n",
    "    return max(most_down_list), max(most_right_list)"
   ]
  },
  {
   "cell_type": "code",
   "execution_count": 13,
   "metadata": {},
   "outputs": [
    {
     "data": {
      "text/plain": [
       "(1000, 999)"
      ]
     },
     "execution_count": 13,
     "metadata": {},
     "output_type": "execute_result"
    }
   ],
   "source": [
    "find_range(input_3)"
   ]
  },
  {
   "cell_type": "code",
   "execution_count": 14,
   "metadata": {},
   "outputs": [],
   "source": [
    "def find_overlap(input_x):\n",
    "    '''find the overlapping area by numpy matrix grid'''\n",
    "    grid = np.zeros([1000,1000])\n",
    "    down_start = list(map(int,re.findall(r'(?<=@ ).*?(?=,)',str(input_x))))\n",
    "    right_start = list(map(int,re.findall(r'(?<=,).*?(?=:)',''.join(input_x))))\n",
    "    down_len = list(map(int,re.findall(r'(?<=: ).*?(?=x)',str(input_x))))\n",
    "    right_len = list(map(int,re.findall(r\"(?<=x).*?(?=')\", str(input_x))))\n",
    "    for i in range(len(down_start)):\n",
    "        grid[down_start[i]:down_start[i]+down_len[i],right_start[i]:right_start[i]+right_len[i]] += 1\n",
    "    return sum(grid.ravel() >1)"
   ]
  },
  {
   "cell_type": "code",
   "execution_count": 19,
   "metadata": {},
   "outputs": [
    {
     "data": {
      "text/plain": [
       "8"
      ]
     },
     "execution_count": 19,
     "metadata": {},
     "output_type": "execute_result"
    }
   ],
   "source": [
    "#test case\n",
    "input_4 = ['#1 @ 1,3: 4x4',\n",
    "           '#2 @ 3,1: 4x4',\n",
    "           '#3 @ 4,4: 3x3',\n",
    "          '#4 @ 204,204: 3x3']\n",
    "find_overlap(input_4)"
   ]
  },
  {
   "cell_type": "code",
   "execution_count": 16,
   "metadata": {},
   "outputs": [
    {
     "data": {
      "text/plain": [
       "111485"
      ]
     },
     "execution_count": 16,
     "metadata": {},
     "output_type": "execute_result"
    }
   ],
   "source": [
    "find_overlap(input_3)"
   ]
  },
  {
   "cell_type": "markdown",
   "metadata": {},
   "source": [
    "The answer to the first question is 111485 sq. inches overlapping."
   ]
  },
  {
   "cell_type": "code",
   "execution_count": 17,
   "metadata": {},
   "outputs": [],
   "source": [
    "def find_not_overlap(input_x):\n",
    "    \"\"\"use the grid system to find non-overlapping area\"\"\"\n",
    "    grid = np.zeros([1000,1000])\n",
    "    down_start = list(map(int,re.findall(r'(?<=@ ).*?(?=,)',str(input_x))))\n",
    "    right_start = list(map(int,re.findall(r'(?<=,).*?(?=:)',''.join(input_x))))\n",
    "    down_len = list(map(int,re.findall(r'(?<=: ).*?(?=x)',str(input_x))))\n",
    "    right_len = list(map(int,re.findall(r\"(?<=x).*?(?=')\", str(input_x))))\n",
    "    area_list = []\n",
    "    for i in range(len(down_start)):\n",
    "        grid[down_start[i]:down_start[i]+down_len[i],right_start[i]:right_start[i]+right_len[i]] += 1\n",
    "        area_list.append(down_len[i]*right_len[i])\n",
    "    for i in range(len(down_start)):\n",
    "        if sum(grid[down_start[i]:down_start[i]+down_len[i],right_start[i]:right_start[i]+right_len[i]].ravel()) == area_list[i]:\n",
    "            return i+1"
   ]
  },
  {
   "cell_type": "code",
   "execution_count": 18,
   "metadata": {},
   "outputs": [
    {
     "data": {
      "text/plain": [
       "113"
      ]
     },
     "execution_count": 18,
     "metadata": {},
     "output_type": "execute_result"
    }
   ],
   "source": [
    "find_not_overlap(input_3)"
   ]
  },
  {
   "cell_type": "markdown",
   "metadata": {},
   "source": [
    "The answer to the second part is the rectangle 113 does not have any overlap with any other rectangles."
   ]
  }
 ],
 "metadata": {
  "kernelspec": {
   "display_name": "Python 3",
   "language": "python",
   "name": "python3"
  },
  "language_info": {
   "codemirror_mode": {
    "name": "ipython",
    "version": 3
   },
   "file_extension": ".py",
   "mimetype": "text/x-python",
   "name": "python",
   "nbconvert_exporter": "python",
   "pygments_lexer": "ipython3",
   "version": "3.6.1"
  }
 },
 "nbformat": 4,
 "nbformat_minor": 2
}
