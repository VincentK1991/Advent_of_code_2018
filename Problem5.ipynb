{
 "cells": [
  {
   "cell_type": "code",
   "execution_count": 21,
   "metadata": {},
   "outputs": [],
   "source": [
    "import sys"
   ]
  },
  {
   "cell_type": "markdown",
   "metadata": {},
   "source": [
    "write a function to read in the input text file"
   ]
  },
  {
   "cell_type": "code",
   "execution_count": 40,
   "metadata": {},
   "outputs": [],
   "source": [
    "def read_input(input_filename):\n",
    "    '''read the input text file, split the lines, remove the empty last line, and return as string'''\n",
    "    temp_input = open(input_filename)\n",
    "    return ''.join(temp_input.read().split('\\n')[:-1])"
   ]
  },
  {
   "cell_type": "code",
   "execution_count": 41,
   "metadata": {},
   "outputs": [
    {
     "data": {
      "text/plain": [
       "50000"
      ]
     },
     "execution_count": 41,
     "metadata": {},
     "output_type": "execute_result"
    }
   ],
   "source": [
    "input_2 = read_input('input_p5.txt')\n",
    "len(input_2)"
   ]
  },
  {
   "cell_type": "code",
   "execution_count": 38,
   "metadata": {},
   "outputs": [],
   "source": [
    "def destroy_match(string):\n",
    "    '''recusive method for getting rid of capital letter adjacenting lowercase letter. return the string after the adjacent pairs\n",
    "    of capital letter and its lowercase are removed'''\n",
    "    i = 0\n",
    "    while i < len(string) -1:\n",
    "        #print('enters while loop')\n",
    "        if (string[i].lower() == string[i+1] and string[i] != string[i+1]) or (string[i].upper() == string[i+1] and string[i] != string[i+1]):\n",
    "            #print('enters recursion')\n",
    "            i += 1\n",
    "            return destroy_match(string[:i-1] +string[i+1:])\n",
    "        else:\n",
    "            #print('enters else clause')\n",
    "            i += 1\n",
    "    #print('done with while loop')\n",
    "    #print(string)\n",
    "    return string"
   ]
  },
  {
   "cell_type": "code",
   "execution_count": 39,
   "metadata": {},
   "outputs": [
    {
     "data": {
      "text/plain": [
       "'cff'"
      ]
     },
     "execution_count": 39,
     "metadata": {},
     "output_type": "execute_result"
    }
   ],
   "source": [
    "#test case\n",
    "destroy_match('AbBacedDEff')"
   ]
  },
  {
   "cell_type": "code",
   "execution_count": 42,
   "metadata": {},
   "outputs": [],
   "source": [
    "#increase the recusion depth limit to handle the big input size\n",
    "sys.setrecursionlimit(10000)"
   ]
  },
  {
   "cell_type": "code",
   "execution_count": 33,
   "metadata": {},
   "outputs": [
    {
     "data": {
      "text/plain": [
       "10708"
      ]
     },
     "execution_count": 33,
     "metadata": {},
     "output_type": "execute_result"
    }
   ],
   "source": [
    "len(destroy_match(destroy_match(input_2[:10000]) + destroy_match(input_2[10000:20000]) + destroy_match(input_2[20000:30000]) + destroy_match(input_2[30000:40000]) + destroy_match(input_2[40000:])))"
   ]
  },
  {
   "cell_type": "markdown",
   "metadata": {},
   "source": [
    "Answer to the first problem is 10708 (that is the length of remaining string after the adjacent pair of capital letter and its lowercase are removed)."
   ]
  },
  {
   "cell_type": "code",
   "execution_count": 34,
   "metadata": {},
   "outputs": [],
   "source": [
    "def remove_char(string,char):\n",
    "    '''selectively remove alphabetical letter (denote by char) both capital letter and lowercase. and return the resulting string'''\n",
    "    string = string.replace(char.lower(),'')\n",
    "    string = string.replace(char.upper(),'')\n",
    "    return string"
   ]
  },
  {
   "cell_type": "code",
   "execution_count": 35,
   "metadata": {},
   "outputs": [
    {
     "data": {
      "text/plain": [
       "10708"
      ]
     },
     "execution_count": 35,
     "metadata": {},
     "output_type": "execute_result"
    }
   ],
   "source": [
    "output_match = destroy_match(destroy_match(input_2[:10000]) + destroy_match(input_2[10000:20000]) + destroy_match(input_2[20000:30000]) + destroy_match(input_2[30000:40000]) + destroy_match(input_2[40000:]))\n",
    "len(output_match)"
   ]
  },
  {
   "cell_type": "code",
   "execution_count": 43,
   "metadata": {},
   "outputs": [],
   "source": [
    "def match_after_remove_letter(string):\n",
    "    '''keep track of what alphabetical letter is removed, call the pair removal function to assess the remaining letters. keep that information\n",
    "    and return the alphabetical letter, in which its removal lead to string  that after pair removal is the shortest'''\n",
    "    \n",
    "    letters = 'abcdefghijklmnopqrstuvwxyz'\n",
    "    temp_tuple = ('',len(string))\n",
    "    for i in letters:\n",
    "        temp_length = len(destroy_match(remove_char(string,i)))\n",
    "        if temp_length < temp_tuple[1]:\n",
    "            temp_tuple =  i,temp_length\n",
    "    return temp_tuple"
   ]
  },
  {
   "cell_type": "code",
   "execution_count": 37,
   "metadata": {},
   "outputs": [
    {
     "data": {
      "text/plain": [
       "('j', 5330)"
      ]
     },
     "execution_count": 37,
     "metadata": {},
     "output_type": "execute_result"
    }
   ],
   "source": [
    "match_after_remove_letter(output_match)"
   ]
  },
  {
   "cell_type": "markdown",
   "metadata": {},
   "source": [
    "The answer for 2nd part is 'j'. after remove j, the string can be collapse much further to 5330 remaining characters."
   ]
  }
 ],
 "metadata": {
  "kernelspec": {
   "display_name": "Python 3",
   "language": "python",
   "name": "python3"
  },
  "language_info": {
   "codemirror_mode": {
    "name": "ipython",
    "version": 3
   },
   "file_extension": ".py",
   "mimetype": "text/x-python",
   "name": "python",
   "nbconvert_exporter": "python",
   "pygments_lexer": "ipython3",
   "version": "3.6.1"
  }
 },
 "nbformat": 4,
 "nbformat_minor": 2
}
